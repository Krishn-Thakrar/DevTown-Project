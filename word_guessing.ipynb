{
 "cells": [
  {
   "cell_type": "code",
   "execution_count": null,
   "id": "c2fac924",
   "metadata": {},
   "outputs": [],
   "source": [
    "import random\n",
    "name = input(\"What is your name? \")\n",
    "print(\"Good Luck ! \", name)\n",
    "words = ['rainbow', 'computer', 'science', 'programming', 'python', 'mathematics', 'player', 'condition', 'reverse', 'water', 'board', 'geeks']\n",
    "word = random.choice(words)\n",
    "print(\"Guess the characters\")\n",
    "guesses = ''\n",
    "turns = 12\n",
    "while turns > 0:\n",
    "    failed = 0\n",
    "    for char in word:\n",
    "        if char in guesses:\n",
    "            print(char, end=\" \")\n",
    "        else:\n",
    "            print(\"_\")\n",
    "            failed += 1\n",
    "    if failed == 0:\n",
    "        print(\"You Win\")\n",
    "        print(\"The word is: \", word)\n",
    "        break\n",
    "    print()\n",
    "    guess = input(\"guess a character:\")\n",
    "    guesses += guess\n",
    "    if guess not in word:\n",
    "        turns -= 1\n",
    "        print(\"Wrong\")\n",
    "        print(\"You have\", + turns, 'more guesses')\n",
    "        if turns == 0:\n",
    "            print(\"You Loose\")"
   ]
  },
  {
   "cell_type": "code",
   "execution_count": null,
   "id": "1deec21b",
   "metadata": {},
   "outputs": [],
   "source": []
  }
 ],
 "metadata": {
  "kernelspec": {
   "display_name": "Python 3 (ipykernel)",
   "language": "python",
   "name": "python3"
  },
  "language_info": {
   "codemirror_mode": {
    "name": "ipython",
    "version": 3
   },
   "file_extension": ".py",
   "mimetype": "text/x-python",
   "name": "python",
   "nbconvert_exporter": "python",
   "pygments_lexer": "ipython3",
   "version": "3.9.13"
  }
 },
 "nbformat": 4,
 "nbformat_minor": 5
}
